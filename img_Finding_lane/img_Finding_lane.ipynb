{
 "cells": [
  {
   "cell_type": "code",
   "execution_count": null,
   "metadata": {},
   "outputs": [],
   "source": [
    "import cv2\n",
    "import pandas as pd\n",
    "import numpy as np\n",
    "import os\n",
    "import matplotlib.pyplot as plt"
   ]
  },
  {
   "cell_type": "code",
   "execution_count": null,
   "metadata": {},
   "outputs": [],
   "source": [
    "img = cv2.imread('lines.png',-1)\n",
    "cv2.imshow('line',img)\n",
    "print(img.shape)"
   ]
  },
  {
   "cell_type": "code",
   "execution_count": null,
   "metadata": {},
   "outputs": [],
   "source": [
    "gray = cv2.cvtColor(img,cv2.COLOR_BGR2GRAY)\n",
    "blur = cv2.GaussianBlur(gray,(5,5),0)\n",
    "canny = cv2.Canny(img,50,150)\n",
    "cv2.imshow('draw_line',canny)"
   ]
  },
  {
   "cell_type": "code",
   "execution_count": null,
   "metadata": {},
   "outputs": [],
   "source": [
    "gray = cv2.cvtColor(img,cv2.COLOR_BGR2GRAY)\n",
    "blur = cv2.GaussianBlur(gray,(5,5),0)\n",
    "canny = cv2.Canny(img,50,150)\n",
    "\n",
    "lines = cv2.HoughLinesP(canny,1,np.pi/180,50,maxLineGap=180,minLineLength=20)\n",
    "for line in lines:\n",
    "    x1,y1,x2,y2 = line[0]\n",
    "    cv2.line(img,(x1,y1),(x2,y2),(255,0,0),3)\n",
    "    \n",
    "cv2.imshow('draw_line',img)"
   ]
  },
  {
   "cell_type": "code",
   "execution_count": null,
   "metadata": {},
   "outputs": [],
   "source": [
    "lane_img = cv2.imread('lane.png',-1)\n",
    "hsv = cv2.cvtColor(lane_img,cv2.COLOR_BGR2HSV)\n",
    "low_yellow = np.array([15,90,140])\n",
    "high_yellow = np.array([50,160,255])\n",
    "mask = cv2.inRange(hsv,low_yellow,high_yellow)"
   ]
  },
  {
   "cell_type": "code",
   "execution_count": null,
   "metadata": {},
   "outputs": [],
   "source": [
    "lane_img = cv2.imread('lane.png',-1)\n",
    "blur = cv2.GaussianBlur(lane_img,(5,5),0)\n",
    "hsv = cv2.cvtColor(blur,cv2.COLOR_BGR2HSV)\n",
    "\n",
    "low_yellow = np.array([15,90,140])\n",
    "high_yellow = np.array([50,160,255])\n",
    "mask = cv2.inRange(hsv,low_yellow,high_yellow)\n",
    "\n",
    "canny = cv2.Canny(mask,50,150)\n",
    "\n",
    "lines = cv2.HoughLinesP(canny,1,np.pi/180,50,maxLineGap=50,minLineLength=20)\n",
    "for line in lines:\n",
    "    x1,y1,x2,y2 = line[0]\n",
    "    cv2.line(lane_img,(x1,y1),(x2,y2),(255,0,0),3)\n",
    "\n",
    "cv2.imshow('lane_img',lane_img)"
   ]
  }
 ],
 "metadata": {
  "kernelspec": {
   "display_name": "Python 3",
   "language": "python",
   "name": "python3"
  },
  "language_info": {
   "codemirror_mode": {
    "name": "ipython",
    "version": 3
   },
   "file_extension": ".py",
   "mimetype": "text/x-python",
   "name": "python",
   "nbconvert_exporter": "python",
   "pygments_lexer": "ipython3",
   "version": "3.7.3"
  }
 },
 "nbformat": 4,
 "nbformat_minor": 2
}
