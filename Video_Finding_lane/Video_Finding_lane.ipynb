{
 "cells": [
  {
   "cell_type": "markdown",
   "metadata": {},
   "source": [
    "Article:\n",
    "https://medium.com/@a4793706/%E6%89%8B%E6%8A%8A%E6%89%8B%E5%B8%B6%E4%BD%A0%E9%80%B2%E5%85%A5%E8%87%AA%E5%8B%95%E9%A7%95%E9%A7%9B%E7%9A%84%E7%AC%AC%E4%B8%80%E8%AA%B2-%E5%BD%B1%E5%83%8F%E4%B8%AD%E5%B0%8B%E6%89%BE%E8%BB%8A%E9%81%93%E7%B7%9A-%E4%B8%89-python-opencv%E5%BD%B1%E5%83%8F%E8%99%95%E7%90%86-%E9%99%84%E4%B8%8A%E7%A8%8B%E5%BC%8F%E7%A2%BC%E8%AC%9B%E8%A7%A3-8069b6ed62e7?sk=9dfe3399b26261f650de507be352e89c\n",
    "\n",
    "gitgub:https://github.com/qwp8510/Self-driving_Finding_lane/tree/master/Video_Finding_lane\n",
    "\n",
    "made by:Daniel Chiang (qwp8510)\n",
    "hope you enjoy!!"
   ]
  },
  {
   "cell_type": "code",
   "execution_count": null,
   "metadata": {},
   "outputs": [],
   "source": [
    "import cv2\n",
    "import pandas as pd\n",
    "import numpy as np\n",
    "import os\n",
    "import matplotlib.pyplot as plt"
   ]
  },
  {
   "cell_type": "code",
   "execution_count": null,
   "metadata": {},
   "outputs": [],
   "source": [
    "lane_img = cv2.imread('lane.png',-1)\n",
    "lane_img = cv2.resize(lane_img,(1500,800))\n",
    "blur = cv2.GaussianBlur(lane_img,(5,5),0)\n",
    "hsv = cv2.cvtColor(blur,cv2.COLOR_BGR2HSV)\n",
    "low_yellow = np.array([15,90,140])\n",
    "high_yellow = np.array([50,160,255])\n",
    "mask = cv2.inRange(hsv,low_yellow,high_yellow)\n",
    "canny = cv2.Canny(mask,50,150)\n",
    "          \n",
    "roi_mask = np.zeros(canny.shape,dtype=np.uint8)\n",
    "ROI = np.array([[(0,800),(1400,800),(1400,350),(0,350)]])\n",
    "cv2.fillPoly(roi_mask,ROI,255)   \n",
    "plt.imshow(roi_mask)"
   ]
  },
  {
   "cell_type": "code",
   "execution_count": null,
   "metadata": {},
   "outputs": [],
   "source": [
    "cap = cv2.VideoCapture('road_car_view.mp4')\n",
    "while(True):\n",
    "    ret,frame = cap.read()\n",
    "    \n",
    "    if ret:\n",
    "        frame = cv2.resize(frame,(1500,800))\n",
    "        blur = cv2.GaussianBlur(frame,(5,5),0)\n",
    "        hsv = cv2.cvtColor(blur,cv2.COLOR_BGR2HSV)\n",
    "\n",
    "        low_yellow = np.array([18,90,140])\n",
    "        high_yellow = np.array([48,160,255])\n",
    "        mask = cv2.inRange(hsv,low_yellow,high_yellow)\n",
    "        canny = cv2.Canny(mask,50,150)\n",
    "            \n",
    "        roi_mask = np.zeros(canny.shape,dtype=np.uint8)\n",
    "        ROI = np.array([[(0,800),(1400,800),(1400,350),(0,350)]])\n",
    "        cv2.fillPoly(roi_mask,ROI,255)\n",
    "        \n",
    "        ROI_canny = cv2.bitwise_and(canny,roi_mask)        \n",
    "        try:\n",
    "            lines = cv2.HoughLinesP(ROI_canny,1,np.pi/180,50,maxLineGap=50,minLineLength=20)\n",
    "            for line in lines:\n",
    "                x1,y1,x2,y2 = line[0]\n",
    "                cv2.line(frame,(x1,y1),(x2,y2),(255,0,0),3)\n",
    "        except:\n",
    "            pass\n",
    "        cv2.imshow('frame',frame)\n",
    "    if cv2.waitKey(1) == ord('q'):\n",
    "        break\n",
    "\n",
    "cap.release()\n",
    "cv2.destroyAllWindows()"
   ]
  }
 ],
 "metadata": {
  "kernelspec": {
   "display_name": "Python 3",
   "language": "python",
   "name": "python3"
  }
 },
 "nbformat": 4,
 "nbformat_minor": 2
}
