{
 "cells": [
  {
   "cell_type": "code",
   "execution_count": null,
   "metadata": {},
   "outputs": [],
   "source": [
    "import cv2\n",
    "import pandas as pd\n",
    "import numpy as np\n",
    "import os\n",
    "import matplotlib.pyplot as plt"
   ]
  },
  {
   "cell_type": "code",
   "execution_count": null,
   "metadata": {},
   "outputs": [],
   "source": [
    "lane_img = cv2.imread('lane.png',-1)\n",
    "lane_img = cv2.resize(lane_img,(1500,800))\n",
    "blur = cv2.GaussianBlur(lane_img,(5,5),0)\n",
    "hsv = cv2.cvtColor(blur,cv2.COLOR_BGR2HSV)\n",
    "low_yellow = np.array([15,90,140])\n",
    "high_yellow = np.array([50,160,255])\n",
    "mask = cv2.inRange(hsv,low_yellow,high_yellow)\n",
    "canny = cv2.Canny(mask,50,150)\n",
    "          \n",
    "roi_mask = np.zeros(canny.shape,dtype=np.uint8)\n",
    "ROI = np.array([[(0,800),(1400,800),(1400,350),(0,350)]])\n",
    "cv2.fillPoly(roi_mask,ROI,255)   \n",
    "plt.imshow(roi_mask)"
   ]
  },
  {
   "cell_type": "code",
   "execution_count": null,
   "metadata": {},
   "outputs": [],
   "source": [
    "cap = cv2.VideoCapture('road_car_view.mp4')\n",
    "while(True):\n",
    "    ret,frame = cap.read()\n",
    "    \n",
    "    if ret:\n",
    "        frame = cv2.resize(frame,(1500,800))\n",
    "        blur = cv2.GaussianBlur(frame,(5,5),0)\n",
    "        hsv = cv2.cvtColor(blur,cv2.COLOR_BGR2HSV)\n",
    "\n",
    "        low_yellow = np.array([18,90,140])\n",
    "        high_yellow = np.array([48,160,255])\n",
    "        mask = cv2.inRange(hsv,low_yellow,high_yellow)\n",
    "        canny = cv2.Canny(mask,50,150)\n",
    "            \n",
    "        roi_mask = np.zeros(canny.shape,dtype=np.uint8)\n",
    "        ROI = np.array([[(0,800),(1400,800),(1400,350),(0,350)]])\n",
    "        cv2.fillPoly(roi_mask,ROI,255)\n",
    "        \n",
    "        ROI_canny = cv2.bitwise_and(canny,roi_mask)        \n",
    "        try:\n",
    "            lines = cv2.HoughLinesP(ROI_canny,1,np.pi/180,50,maxLineGap=50,minLineLength=20)\n",
    "            for line in lines:\n",
    "                x1,y1,x2,y2 = line[0]\n",
    "                cv2.line(frame,(x1,y1),(x2,y2),(255,0,0),3)\n",
    "        except:\n",
    "            pass\n",
    "        cv2.imshow('frame',frame)\n",
    "    if cv2.waitKey(1) == ord('q'):\n",
    "        break\n",
    "\n",
    "cap.release()\n",
    "cv2.destroyAllWindows()"
   ]
  }
 ],
 "metadata": {
  "kernelspec": {
   "display_name": "Python 3",
   "language": "python",
   "name": "python3"
  }
 },
 "nbformat": 4,
 "nbformat_minor": 2
}
